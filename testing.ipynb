{
 "cells": [
  {
   "cell_type": "markdown",
   "metadata": {},
   "source": [
    "In another terminal, start this:\n",
    "\n",
    "```cd ~/stanford-corenlp-full-2016-10-31 && \\\n",
    "java -mx4g -cp \"*\" edu.stanford.nlp.pipeline.StanfordCoreNLPServer -port 9020```"
   ]
  },
  {
   "cell_type": "code",
   "execution_count": 1,
   "metadata": {},
   "outputs": [],
   "source": [
    "statement_1 = '''\n",
    "Halimah is a puppet President.\n",
    "'''"
   ]
  },
  {
   "cell_type": "code",
   "execution_count": 2,
   "metadata": {},
   "outputs": [],
   "source": [
    "statement_2 = '''\n",
    "Temasek loses money.\n",
    "'''"
   ]
  },
  {
   "cell_type": "code",
   "execution_count": 31,
   "metadata": {},
   "outputs": [],
   "source": [
    "statement_3 = '''\n",
    "Halimah is useless.\n",
    "'''"
   ]
  },
  {
   "cell_type": "code",
   "execution_count": 32,
   "metadata": {},
   "outputs": [],
   "source": [
    "article_text = '''\n",
    "S$1.54 million-a-year for reading essay. How much further useless can Halimah Yacob get?\n",
    "\n",
    "With her eyes glued on the scripts, Indian-turned-Malay President Halimah Yacob obediently read on live TV her first speech in Parliament as Singapore President. The “independent” President’s speech, written by the PAP Ministers, is as best a load of hot air, waxing lyrical about leadership, equality, meritocracy and a “bright future”.\n",
    "\n",
    "“Singapore is not yet done with nation building and its fourth-generation of leaders must “fire up and mobilise” young Singaporeans, who are eager to take up the challenge of doing so. As a new generation of Singaporeans come of age with their own dreams, hopes and fears, the 4G leaders will have to work with them to respond to the challenges of their times. They dream of a bright future, and pour their energies into exploring fresh horizons and building a better world. They want to see their parents age well.”\n",
    "\n",
    "There you have it, the audacity of Halimah Yacob mentioning about “ageing well”. The ignorant PAP crony probably knew nothing about Singaporean elderly not being able to retire because their CPF money are stuck with Temasek Holdings and GIC. When compared to other private and public superannuation and retirement funds, Singapore’s CPF system have the lowest interest rate return of 2.5%. CPF”s retirement fund withdrawal age of 63 is one of the oldest in the world, and the Minimum Sum of S$181,000 is outright extortion. Halimah Yacob must be really shameless to be talking about “ageing well”, when she is not even doing her due diligence finding out how much money are there left in the reserves and CPF.\n",
    "\n",
    "“They hope for a fairer and more equal society. As proud Singaporeans, they want to see this small island nation stand tall amongst the community of nations.”\n",
    "\n",
    "With a GINI coefficient of 0.459, Singapore has an income inequality just only second to Mexico when compared with OECD nations. According to recent official statistics, the demand for rental housing and subsidised healthcare have risen. Although the government deliberately avoided setting a poverty line, more than 50% of the households earn below half the median income of S$4,232. The claim that Singapore is an equal society is just far fetch.\n",
    "\n",
    "“The 4G leaders should marshall the spirit and energy of these young Singaporeans. To do so, they must grow with the people they represent, be open to diverse views and ideas and have a clear purpose and unity of action, said the President.”\n",
    "\n",
    "President Halimah Yacob then called for the PAP government to be open to diverse views and ideas, which is by far the most hypocritical section in her speech. One just need to be reminded of the Select Committee on Online Falsehoods, where Law Minister K Shanmugam smacked down criticisms and even began a barrage of personal attacks after the public hearing. Social media companies like Facebook were accused of propagating fake news and an Oxford historian was smeared as a Holocaust denier. How open is that.\n",
    "\n",
    "You may read the rest of Halimah Yacob’s garbage below:\n",
    "\n",
    "“We may be tempted not to go for bold changes, but instead be content to tweak things at the margins. The new leaders may feel that there is more to lose now, given that Singapore is at a more advanced stage of development. That would be the wrong approach. Be careful of settling for mediocrity, the country has a lot going for it as a vibrant node in Asia and a harmonious multi-cultural society. We need to keep alive the spirit of our pioneers and be constantly driven to do better, with each generation surpassing the previous.”\n",
    "'''"
   ]
  },
  {
   "cell_type": "code",
   "execution_count": 33,
   "metadata": {},
   "outputs": [],
   "source": [
    "import pandas as pd"
   ]
  },
  {
   "cell_type": "code",
   "execution_count": 34,
   "metadata": {},
   "outputs": [],
   "source": [
    "test_stances_unlabeled_2D_array = []\n",
    "test_stances_unlabeled_2D_array.append([statement_1, 1])\n",
    "test_stances_unlabeled_2D_array.append([statement_2, 1])\n",
    "test_stances_unlabeled_2D_array.append([statement_3, 1])"
   ]
  },
  {
   "cell_type": "code",
   "execution_count": 35,
   "metadata": {},
   "outputs": [],
   "source": [
    "# test_stances_unlabeled.csv\n",
    "# Headline,Body ID\n",
    "my_df = pd.DataFrame(test_stances_unlabeled_2D_array)\n",
    "my_df.to_csv('data/fnc-1/test_stances_unlabeled.csv', index=False, header=[\"Headline\", \"Body ID\"])"
   ]
  },
  {
   "cell_type": "code",
   "execution_count": null,
   "metadata": {},
   "outputs": [],
   "source": []
  },
  {
   "cell_type": "code",
   "execution_count": 36,
   "metadata": {},
   "outputs": [],
   "source": [
    "# test_bodies.csv\n",
    "# Body ID,articleBody\n",
    "test_bodies_2D_array = []\n",
    "test_bodies_2D_array.append([1, article_text])"
   ]
  },
  {
   "cell_type": "code",
   "execution_count": 37,
   "metadata": {},
   "outputs": [],
   "source": [
    "# test_bodies.csv\n",
    "# Body ID,articleBody\n",
    "my_df = pd.DataFrame(test_bodies_2D_array)\n",
    "my_df.to_csv('data/fnc-1/test_bodies.csv', index=False, header=[\"Body ID\", \"articleBody\"])"
   ]
  },
  {
   "cell_type": "code",
   "execution_count": null,
   "metadata": {},
   "outputs": [],
   "source": []
  },
  {
   "cell_type": "code",
   "execution_count": 41,
   "metadata": {
    "scrolled": false
   },
   "outputs": [
    {
     "name": "stdout",
     "output_type": "stream",
     "text": [
      "Reading dataset\n",
      "Total stances: 49972\n",
      "Total bodies: 1683\n",
      "voting_mlps_hard\n",
      "['overlap', 'refuting', 'polarity', 'hand', 'NMF_fit_all_incl_holdout_and_test', 'latent_dirichlet_allocation_incl_holdout_and_test', 'latent_semantic_indexing_gensim_holdout_and_test', 'NMF_fit_all_concat_300_and_test', 'word_ngrams_concat_tf5000_l2_w_holdout_and_test', 'stanford_wordsim_1sent']\n",
      "[]\n",
      "Reading dataset\n",
      "Total stances: 49972\n",
      "Total bodies: 1683\n",
      "Reading dataset\n",
      "Total stances: 3\n",
      "Total bodies: 1\n",
      "calculate feature: overlap\n",
      "25413\n",
      "calculate feature: refuting\n",
      "25413\n",
      "calculate feature: polarity\n",
      "25413\n",
      "calculate feature: hand\n",
      "25413\n",
      "calculate feature: NMF_fit_all_incl_holdout_and_test\n",
      "25413\n",
      "calculate feature: latent_dirichlet_allocation_incl_holdout_and_test\n",
      "25413\n",
      "calculate feature: latent_semantic_indexing_gensim_holdout_and_test\n",
      "25413\n",
      "calculate feature: NMF_fit_all_concat_300_and_test\n",
      "25413\n",
      "calculate feature: word_ngrams_concat_tf5000_l2_w_holdout_and_test\n",
      "25413\n",
      "calculate feature: stanford_wordsim_1sent\n",
      "25413\n",
      "Warning: Make sure older models with this name have been trained on the same features! Otherwise,if the lengths of the features the model has been trained on, differ, an error will occur!\n",
      "Load model for final prediction of test set: /home/hkmac/athene_system/data/fnc-1/mlp_models/voting_mlps_hard_final_2/voting_mlps_hard_final.sav\n"
     ]
    }
   ],
   "source": [
    "!cd ~/athene_system/fnc && python3 pipeline.py -p ftest"
   ]
  },
  {
   "cell_type": "code",
   "execution_count": null,
   "metadata": {},
   "outputs": [],
   "source": []
  },
  {
   "cell_type": "code",
   "execution_count": 42,
   "metadata": {},
   "outputs": [
    {
     "name": "stdout",
     "output_type": "stream",
     "text": [
      "                             Headline  Body ID     Stance\n",
      "0  \\nHalimah is a puppet President.\\n        1  unrelated\n",
      "1            \\nTemasek loses money.\\n        1  unrelated\n",
      "2             \\nHalimah is useless.\\n        1  unrelated\n"
     ]
    }
   ],
   "source": [
    "preds = pd.read_csv('/home/hkmac/athene_system/data/fnc-1/fnc_results/submission.csv')\n",
    "print(preds.head())"
   ]
  },
  {
   "cell_type": "code",
   "execution_count": null,
   "metadata": {},
   "outputs": [],
   "source": []
  },
  {
   "cell_type": "code",
   "execution_count": null,
   "metadata": {},
   "outputs": [],
   "source": []
  }
 ],
 "metadata": {
  "kernelspec": {
   "display_name": "Python 3",
   "language": "python",
   "name": "python3"
  },
  "language_info": {
   "codemirror_mode": {
    "name": "ipython",
    "version": 3
   },
   "file_extension": ".py",
   "mimetype": "text/x-python",
   "name": "python",
   "nbconvert_exporter": "python",
   "pygments_lexer": "ipython3",
   "version": "3.5.3"
  }
 },
 "nbformat": 4,
 "nbformat_minor": 2
}
